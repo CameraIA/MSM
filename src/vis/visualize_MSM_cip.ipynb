{
 "cells": [
  {
   "cell_type": "markdown",
   "metadata": {},
   "source": [
    "# Visualizing differences - recreating fiji code\n",
    "##Sep 2017\n",
    "\n",
    "- retrieve info from original images + segmentations from kmeans + srm  and overlay\n",
    "- save it to picture\n",
    "- save animation"
   ]
  },
  {
   "cell_type": "code",
   "execution_count": 2,
   "metadata": {
    "collapsed": true
   },
   "outputs": [],
   "source": [
    "%matplotlib inline"
   ]
  },
  {
   "cell_type": "code",
   "execution_count": 3,
   "metadata": {
    "collapsed": true
   },
   "outputs": [],
   "source": [
    "import numpy as np\n",
    "import matplotlib.pyplot as plt\n",
    "from skimage import color, io, img_as_ubyte, external\n",
    "from skimage.transform import resize\n",
    "from skimage.filters import threshold_otsu, sobel\n",
    "from skimage.morphology import closing, square, remove_small_objects"
   ]
  },
  {
   "cell_type": "code",
   "execution_count": 4,
   "metadata": {
    "collapsed": true
   },
   "outputs": [],
   "source": [
    "minSize = 50\n",
    "#methList = ['kmeans','srm','pmrf']\n",
    "path = \"/Users/dani/Dropbox/prog/Apps_CIP/JSR_2017/daniTestMSM/examples/gambier_region/\";\n",
    "#path = \"/Users/dani/Dropbox/prog/Apps_CIP/JSR_2017/daniTestMSM/examples/numbers/\"\n",
    "\n",
    "ic_orig = io.ImageCollection(path+\"orig/*.tif\")\n",
    "ic_gt = io.ImageCollection(path+\"groundtruth/*.tif\")\n",
    "ic_res_kmeans = io.ImageCollection(path+\"orig/res/kmeans/tif/*.tif\")\n",
    "ic_res_srm = io.ImageCollection(path+\"orig/res/srm/tif/*.tif\")\n",
    "\n",
    "ic_list = [ic_gt, ic_res_kmeans, ic_res_srm] \n",
    "#TODO: (1) what if gt not available?  (2) what if the processed slices are smaller than slices available\n",
    "\n",
    "#define size of the output\n",
    "im = ic_orig[0] \n",
    "h, w = im.shape\n",
    "fh = h/400 #anim size\n",
    "x=round(h/fh);\n",
    "y=round(w/fh);"
   ]
  },
  {
   "cell_type": "code",
   "execution_count": 17,
   "metadata": {},
   "outputs": [
    {
     "name": "stdout",
     "output_type": "stream",
     "text": [
      "3\n"
     ]
    }
   ],
   "source": [
    "new_list = [ len(x) for x in ic_list]\n",
    "minLen = min(new_list)\n",
    "print(minLen)"
   ]
  },
  {
   "cell_type": "code",
   "execution_count": 6,
   "metadata": {},
   "outputs": [
    {
     "name": "stderr",
     "output_type": "stream",
     "text": [
      "/Users/dani/anaconda/lib/python3.6/site-packages/skimage/util/dtype.py:122: UserWarning: Possible precision loss when converting from float64 to uint8\n",
      "  .format(dtypeobj_in, dtypeobj_out))\n",
      "/Users/dani/anaconda/lib/python3.6/site-packages/skimage/util/dtype.py:122: UserWarning: Possible precision loss when converting from float64 to uint8\n",
      "  .format(dtypeobj_in, dtypeobj_out))\n",
      "/Users/dani/anaconda/lib/python3.6/site-packages/skimage/util/dtype.py:122: UserWarning: Possible precision loss when converting from float64 to uint8\n",
      "  .format(dtypeobj_in, dtypeobj_out))\n"
     ]
    }
   ],
   "source": [
    "#for each image, for each method, paint the edges accordingly\n",
    "for n, curr_slice in enumerate(ic_orig[:minLen]):    \n",
    "    im_orig = curr_slice \n",
    "    im_orig = img_as_ubyte(im_orig) \n",
    "    im_orig= resize(im_orig,(x,y),mode='reflect')\n",
    "    im_orig = color.grey2rgb(im_orig, alpha=None)\n",
    "    \n",
    "    im = img_as_ubyte(ic_gt[n]) #change this \n",
    "    im = resize(im,(x,y),mode='reflect')\n",
    "    thresh = threshold_otsu(im)  #needed due to interpolation crap\n",
    "    im = closing(im > thresh, square(3))\n",
    "    im = remove_small_objects(im, minSize) \n",
    "    edg = sobel(im)\n",
    "    edg = edg >0\n",
    "    im_orig[edg, 0] = 1\n",
    "    #if darker borders\n",
    "    im_orig[edg, 1] = 0\n",
    "    im_orig[edg, 2] = 0    \n",
    "    \n",
    "    im = img_as_ubyte(ic_res_kmeans[n]) #change this \n",
    "    im = resize(im,(x,y),mode='reflect')\n",
    "    thresh = threshold_otsu(im)  #needed due to interpolation crap\n",
    "    im = closing(im > thresh, square(3))\n",
    "    im = remove_small_objects(im, minSize) \n",
    "    edg = sobel(im)\n",
    "    edg = edg >0\n",
    "    im_orig[edg, 1] = 1\n",
    "    #if darker borders\n",
    "    im_orig[edg, 0] = 0\n",
    "    im_orig[edg, 2] = 0    \n",
    "    \n",
    "    im = img_as_ubyte(ic_res_srm[n]) #change this \n",
    "    im = resize(im,(x,y),mode='reflect')\n",
    "    thresh = threshold_otsu(im)\n",
    "    im = closing(im > thresh, square(3))\n",
    "    im = remove_small_objects(im, minSize) \n",
    "    edg = sobel(im)\n",
    "    edg = edg >0\n",
    "    im_orig[edg, 2] = 1\n",
    "    #if darker borders\n",
    "    im_orig[edg, 0] = 0\n",
    "    im_orig[edg, 1] = 0    \n",
    "    \n",
    "    #saving slices\n",
    "    path = ic_list[1].files[n] #any index larger than 0 carries segmentation\n",
    "    pathPieces=path.split('kmeans')\n",
    "    pathPieces2=pathPieces[-1].split('/tif/')\n",
    "    filename=pathPieces[0]+'vis/tif/'+pathPieces2[-1]\n",
    "    #print(filename)\n",
    "    #io.imsave(filename, im_orig) #There's problem with the format being save, file seems to be corrupted\n",
    "    im_orig = img_as_ubyte(im_orig)\n",
    "    external.tifffile.imsave(filename, im_orig,photometric='rgb')"
   ]
  },
  {
   "cell_type": "code",
   "execution_count": null,
   "metadata": {
    "collapsed": true
   },
   "outputs": [],
   "source": [
    "plt.imshow(im_orig)"
   ]
  },
  {
   "cell_type": "code",
   "execution_count": null,
   "metadata": {
    "collapsed": true
   },
   "outputs": [],
   "source": [
    "#gif animation\n",
    "import os\n",
    "os.system('imagemagick-converting-command filein fileout')"
   ]
  }
 ],
 "metadata": {
  "kernelspec": {
   "display_name": "Python 3",
   "language": "python",
   "name": "python3"
  },
  "language_info": {
   "codemirror_mode": {
    "name": "ipython",
    "version": 3
   },
   "file_extension": ".py",
   "mimetype": "text/x-python",
   "name": "python",
   "nbconvert_exporter": "python",
   "pygments_lexer": "ipython3",
   "version": "3.6.1"
  }
 },
 "nbformat": 4,
 "nbformat_minor": 2
}
